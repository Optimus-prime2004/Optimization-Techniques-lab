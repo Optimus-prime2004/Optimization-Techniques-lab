{
 "cells": [
  {
   "cell_type": "markdown",
   "metadata": {},
   "source": [
    "# Importing functions from Numpy"
   ]
  },
  {
   "cell_type": "code",
   "execution_count": 46,
   "metadata": {},
   "outputs": [],
   "source": [
    "from numpy.random import randint\n",
    "from numpy.random import rand"
   ]
  },
  {
   "cell_type": "code",
   "execution_count": 47,
   "metadata": {},
   "outputs": [],
   "source": [
    "def objective(x):\n",
    "    return x[0]**2.0+x[1]**2.0"
   ]
  },
  {
   "cell_type": "code",
   "execution_count": 48,
   "metadata": {},
   "outputs": [],
   "source": [
    "def decode(bounds,n_bits,bitstring):\n",
    "    decode=list()\n",
    "    largest=2**n_bits\n",
    "    for i in range(len(bounds)):\n",
    "        start,end=i*n_bits,(i*n_bits)+n_bits\n",
    "        substring=bitstring[start:end]\n",
    "        chars=''.join([str(s) for s in substring])\n",
    "        integer=int(chars,2)\n",
    "        value=bounds[i][0]+(integer/largest)*(bounds[i][1]-bounds[i][0])\n",
    "        decode.append(value)\n",
    "    return decode"
   ]
  },
  {
   "cell_type": "code",
   "execution_count": 49,
   "metadata": {},
   "outputs": [],
   "source": [
    "def selection(pop,scores,k=3):\n",
    "    selection_ix=randint(len(pop))\n",
    "    for ix in randint(0,len(pop),k-1):\n",
    "        if scores[ix]<scores[selection_ix]:\n",
    "            selection_ix=ix\n",
    "    return pop[selection_ix]"
   ]
  },
  {
   "cell_type": "code",
   "execution_count": 50,
   "metadata": {},
   "outputs": [],
   "source": [
    "def crossover(p1,p2,r_cross):\n",
    "    c1,c2=p1.copy(),p2.copy()\n",
    "    if rand()<r_cross:\n",
    "        pt=randint(1,len(p1)-2)\n",
    "        c1=p1[:pt]+p2[pt:]\n",
    "        c2=p2[:pt]+p1[pt:]\n",
    "    return[c1,c2]"
   ]
  },
  {
   "cell_type": "code",
   "execution_count": 51,
   "metadata": {},
   "outputs": [],
   "source": [
    "def mutation(bitstring,r_mut):\n",
    "    for i in range(len(bitstring)):\n",
    "        if rand()<r_mut:\n",
    "            bitstring[i]=1-bitstring[i]"
   ]
  },
  {
   "cell_type": "code",
   "execution_count": 52,
   "metadata": {},
   "outputs": [
    {
     "name": "stdout",
     "output_type": "stream",
     "text": [
      "Starting genetic algorithm \n",
      "\n",
      "> iteration 0,new best f([3.50830078125, -0.656890869140625]) = 12.739680\n",
      "> iteration 0,new best f([-0.78094482421875, -1.46270751953125]) = 2.749388\n",
      "> iteration 0,new best f([-1.3299560546875, 0.8453369140625]) = 2.483378\n",
      "> iteration 0,new best f([-1.077880859375, 0.48919677734375]) = 1.401141\n",
      "> iteration 0,new best f([0.652923583984375, 0.839996337890625]) = 1.131903\n",
      "> iteration 0,new best f([0.48858642578125, -0.545196533203125]) = 0.535956\n",
      "> iteration 2,new best f([-0.483551025390625, -0.3369140625]) = 0.347333\n",
      "> iteration 2,new best f([0.21636962890625, -0.357666015625]) = 0.174741\n",
      "> iteration 3,new best f([0.004730224609375, -0.335693359375]) = 0.112712\n",
      "> iteration 3,new best f([-0.22705078125, -0.241851806640625]) = 0.110044\n",
      "> iteration 3,new best f([-0.219268798828125, -0.241851806640625]) = 0.106571\n",
      "> iteration 4,new best f([-0.22705078125, -0.032958984375]) = 0.052638\n",
      "> iteration 4,new best f([0.133056640625, 0.16357421875]) = 0.044461\n",
      "> iteration 5,new best f([0.07080078125, -0.189208984375]) = 0.040813\n",
      "> iteration 5,new best f([0.069427490234375, 0.16357421875]) = 0.031577\n",
      "> iteration 6,new best f([0.11077880859375, -0.090179443359375]) = 0.020404\n",
      "> iteration 7,new best f([0.069427490234375, 0.072021484375]) = 0.010007\n",
      "> iteration 7,new best f([0.01708984375, -0.032958984375]) = 0.001378\n",
      "> iteration 8,new best f([0.00732421875, -0.032958984375]) = 0.001140\n",
      "> iteration 9,new best f([0.031890869140625, -0.005950927734375]) = 0.001052\n",
      "> iteration 10,new best f([0.031890869140625, -0.0054931640625]) = 0.001047\n",
      "> iteration 13,new best f([0.029754638671875, -0.0054931640625]) = 0.000916\n",
      "> iteration 15,new best f([0.027008056640625, -0.0067138671875]) = 0.000775\n",
      "> iteration 16,new best f([-0.008392333984375, -0.0054931640625]) = 0.000101\n",
      "> iteration 17,new best f([-0.008392333984375, -0.00518798828125]) = 0.000097\n",
      "> iteration 20,new best f([0.007476806640625, -0.005645751953125]) = 0.000088\n",
      "> iteration 21,new best f([0.002899169921875, -0.00732421875]) = 0.000062\n",
      "> iteration 21,new best f([0.002899169921875, -0.006866455078125]) = 0.000056\n",
      "> iteration 22,new best f([0.002899169921875, -0.005645751953125]) = 0.000040\n",
      "> iteration 24,new best f([0.00213623046875, 0.0030517578125]) = 0.000014\n",
      "> iteration 25,new best f([0.00152587890625, 0.0030517578125]) = 0.000012\n",
      "> iteration 27,new best f([0.002593994140625, -0.000152587890625]) = 0.000007\n",
      "> iteration 29,new best f([0.000762939453125, 0.001373291015625]) = 0.000002\n",
      "> iteration 29,new best f([0.000152587890625, -0.001220703125]) = 0.000002\n",
      "> iteration 31,new best f([0.000152587890625, -0.000457763671875]) = 0.000000\n",
      "> iteration 40,new best f([0.0, -0.000457763671875]) = 0.000000\n",
      "> iteration 44,new best f([0.00030517578125, -0.000152587890625]) = 0.000000\n",
      "> iteration 44,new best f([0.000152587890625, -0.000152587890625]) = 0.000000\n",
      "> iteration 45,new best f([0.0, -0.000152587890625]) = 0.000000\n",
      "\n",
      " Genetic algorithm completed\n",
      "Best solution:[0.0, -0.000152587890625]\n",
      "Fitness score of the best solution:0.00000\n"
     ]
    }
   ],
   "source": [
    "def genetic_algorithm(objective,bounds,n_bits,n_iter,n_pop,r_cross,r_mut):\n",
    "    pop=[randint(0,2,n_bits*len(bounds)).tolist()for _ in range(n_pop)]\n",
    "    best,best_eval=0,objective(decode(bounds,n_bits,pop[0]))\n",
    "    for gen in range(n_iter):\n",
    "        decoded=[decode(bounds,n_bits,p)for p in pop]\n",
    "        scores=[objective(d)for d in decoded]\n",
    "        for i in range(n_pop):\n",
    "            if scores[i]<best_eval:\n",
    "                best,best_eval=pop[i],scores[i]\n",
    "                print(\"> iteration %d,new best f(%s) = %f\"%(gen,decoded[i],scores[i]))\n",
    "        selected=[selection(pop,scores)for _ in range(n_pop)]\n",
    "        children=list()\n",
    "        for i in range(0,n_pop,2):\n",
    "            p1,p2=selected[i],selected[i+1]\n",
    "            for c in crossover(p1,p2,r_cross):\n",
    "                mutation(c,r_mut)\n",
    "                children.append(c)\n",
    "        pop=children\n",
    "    return[best,best_eval]\n",
    "bounds=[[-5.0,5.0],[-5.0,5.0]]\n",
    "n_iter=100\n",
    "n_bits=16\n",
    "n_pop=100\n",
    "r_cross=0.9\n",
    "r_mut=1.0/(float(n_bits)*len(bounds))\n",
    "print(f\"Starting genetic algorithm \\n\")\n",
    "best,score=genetic_algorithm(objective,bounds,n_bits,n_iter,n_pop,r_cross,r_mut)\n",
    "decode=decode(bounds,n_bits,best)\n",
    "print(f\"\\n Genetic algorithm completed\")\n",
    "print(f\"Best solution:{decode}\")\n",
    "print(f\"Fitness score of the best solution:{score:.5f}\")"
   ]
  }
 ],
 "metadata": {
  "kernelspec": {
   "display_name": "Python 3",
   "language": "python",
   "name": "python3"
  },
  "language_info": {
   "codemirror_mode": {
    "name": "ipython",
    "version": 3
   },
   "file_extension": ".py",
   "mimetype": "text/x-python",
   "name": "python",
   "nbconvert_exporter": "python",
   "pygments_lexer": "ipython3",
   "version": "3.8.5"
  }
 },
 "nbformat": 4,
 "nbformat_minor": 4
}
